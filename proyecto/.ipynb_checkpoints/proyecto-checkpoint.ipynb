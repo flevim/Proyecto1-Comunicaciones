{
 "cells": [
  {
   "cell_type": "code",
   "execution_count": 72,
   "metadata": {
    "hideCode": false,
    "hidePrompt": false,
    "scrolled": false
   },
   "outputs": [
    {
     "name": "stdout",
     "output_type": "stream",
     "text": [
      "The autoreload extension is already loaded. To reload it, use:\n",
      "  %reload_ext autoreload\n",
      "Iniciando lector de camara\n",
      "OpenCV version: major: 4, minor: 2, subminor: 0\n",
      "Resolución del video: 848x480p\n",
      "Cuadros por segundo: 29.97002997002997\n"
     ]
    },
    {
     "data": {
      "application/vnd.jupyter.widget-view+json": {
       "model_id": "2995f539d7ef4c188ce72e1ccb044c48",
       "version_major": 2,
       "version_minor": 0
      },
      "text/plain": [
       "Image(value=b'', layout=\"Layout(height='480', width='848')\")"
      ]
     },
     "metadata": {},
     "output_type": "display_data"
    },
    {
     "name": "stdout",
     "output_type": "stream",
     "text": [
      "Peso original: 3.26 MB\n",
      "float64\n",
      "Peso comprimido: 0.57 MB\n",
      "Tasa de compresión 0.17 bits/seg\n"
     ]
    },
    {
     "ename": "AttributeError",
     "evalue": "'list' object has no attribute 'astype'",
     "output_type": "error",
     "traceback": [
      "\u001b[1;31m---------------------------------------------------------------------------\u001b[0m",
      "\u001b[1;31mAttributeError\u001b[0m                            Traceback (most recent call last)",
      "\u001b[1;32m<ipython-input-72-f484d3920e74>\u001b[0m in \u001b[0;36m<module>\u001b[1;34m\u001b[0m\n\u001b[0;32m     39\u001b[0m \u001b[0mframe\u001b[0m \u001b[1;33m=\u001b[0m \u001b[0mreceptor\u001b[0m\u001b[1;33m(\u001b[0m\u001b[0mframe_comprimido\u001b[0m\u001b[1;33m)\u001b[0m\u001b[1;33m\u001b[0m\u001b[1;33m\u001b[0m\u001b[0m\n\u001b[0;32m     40\u001b[0m \u001b[1;33m\u001b[0m\u001b[0m\n\u001b[1;32m---> 41\u001b[1;33m \u001b[0mdisplay_frame\u001b[0m\u001b[1;33m(\u001b[0m\u001b[0mout\u001b[0m\u001b[1;33m,\u001b[0m \u001b[0mframe\u001b[0m\u001b[1;33m.\u001b[0m\u001b[0mastype\u001b[0m\u001b[1;33m(\u001b[0m\u001b[1;34m'uint8'\u001b[0m\u001b[1;33m)\u001b[0m\u001b[1;33m)\u001b[0m\u001b[1;33m\u001b[0m\u001b[1;33m\u001b[0m\u001b[0m\n\u001b[0m\u001b[0;32m     42\u001b[0m \u001b[1;33m\u001b[0m\u001b[0m\n\u001b[0;32m     43\u001b[0m \u001b[1;33m\u001b[0m\u001b[0m\n",
      "\u001b[1;31mAttributeError\u001b[0m: 'list' object has no attribute 'astype'"
     ]
    }
   ],
   "source": [
    "%load_ext autoreload\n",
    "%autoreload 2\n",
    "\n",
    "import ipywidgets as widgets\n",
    "from camera import CameraReader, display_frame\n",
    "from funciones import eliminar_ruido, transmisor, receptor\n",
    "from scipy import fftpack\n",
    "import matplotlib.pyplot as plt\n",
    "from scipy.signal import medfilt\n",
    "import numpy as np\n",
    "from collections import Counter\n",
    "import heapq\n",
    "\n",
    "\n",
    "cam = CameraReader()\n",
    "vid_height, vid_width = cam.get_resolution()\n",
    "print(\"Resolución del video: {0}x{1}p\".format(vid_width, vid_height))\n",
    "print(\"Cuadros por segundo: {0}\".format(cam.get_fps()))\n",
    "\n",
    "out = widgets.Image(layout=widgets.Layout(width=str(vid_width), \n",
    "                                          height=str(vid_height)))\n",
    "display(out)\n",
    "\n",
    "# Probamos cada fase con el 1er frame del video\n",
    "frame1 = next(cam)\n",
    "frame2 = next(cam)\n",
    "frame3 = next(cam)\n",
    "\n",
    "#for frame in cam:\n",
    "    \n",
    "    # Implemente esta función en proyecto.py\n",
    "frame_limpio = eliminar_ruido(frame3)\n",
    "    \n",
    "    # Implemente esta función en proyecto.py\n",
    "frame_comprimido = transmisor(frame_limpio)\n",
    "    \n",
    "    # Mida el peso en bits de frame_comprimido\n",
    "    \n",
    "    # Implemente esta función en proyecto.py\n",
    "frame = receptor(frame_comprimido)\n",
    "    \n",
    "display_frame(out, frame.astype('uint8'))\n",
    "\n",
    "\n",
    "   "
   ]
  },
  {
   "cell_type": "code",
   "execution_count": 3,
   "metadata": {},
   "outputs": [
    {
     "data": {
      "text/plain": [
       "88806.625"
      ]
     },
     "execution_count": 3,
     "metadata": {},
     "output_type": "execute_result"
    }
   ],
   "source": []
  },
  {
   "cell_type": "code",
   "execution_count": null,
   "metadata": {},
   "outputs": [],
   "source": []
  },
  {
   "cell_type": "code",
   "execution_count": null,
   "metadata": {},
   "outputs": [],
   "source": []
  },
  {
   "cell_type": "code",
   "execution_count": null,
   "metadata": {},
   "outputs": [],
   "source": []
  },
  {
   "cell_type": "code",
   "execution_count": null,
   "metadata": {},
   "outputs": [],
   "source": []
  },
  {
   "cell_type": "code",
   "execution_count": null,
   "metadata": {},
   "outputs": [],
   "source": []
  }
 ],
 "metadata": {
  "hide_code_all_hidden": false,
  "kernelspec": {
   "display_name": "Python 3",
   "language": "python",
   "name": "python3"
  },
  "language_info": {
   "codemirror_mode": {
    "name": "ipython",
    "version": 3
   },
   "file_extension": ".py",
   "mimetype": "text/x-python",
   "name": "python",
   "nbconvert_exporter": "python",
   "pygments_lexer": "ipython3",
   "version": "3.7.6"
  }
 },
 "nbformat": 4,
 "nbformat_minor": 2
}
