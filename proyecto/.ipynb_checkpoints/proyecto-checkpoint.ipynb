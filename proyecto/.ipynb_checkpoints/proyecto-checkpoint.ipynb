{
 "cells": [
  {
   "cell_type": "code",
   "execution_count": 4,
   "metadata": {
    "hideCode": false,
    "hidePrompt": false
   },
   "outputs": [
    {
     "ename": "SyntaxError",
     "evalue": "Non-ASCII character '\\xc3' in file camera.py on line 39, but no encoding declared; see http://python.org/dev/peps/pep-0263/ for details (camera.py, line 38)",
     "output_type": "error",
     "traceback": [
      "\u001b[1;36m  File \u001b[1;32m\"camera.py\"\u001b[1;36m, line \u001b[1;32m38\u001b[0m\n\u001b[1;33m    Función iteradora, cada vez que es llamada lee y retorna un frame de video\u001b[0m\n\u001b[1;37m                                                                              ^\u001b[0m\n\u001b[1;31mSyntaxError\u001b[0m\u001b[1;31m:\u001b[0m Non-ASCII character '\\xc3' in file camera.py on line 39, but no encoding declared; see http://python.org/dev/peps/pep-0263/ for details\n"
     ]
    }
   ],
   "source": [
    "%reload_ext autoreload\n",
    "%autoreload 2\n",
    "\n",
    "import ipywidgets as widgets\n",
    "from camera import CameraReader, display_frame\n",
    "from funciones import eliminar_ruido, transmisor, receptor\n",
    "\n",
    "cam = CameraReader()\n",
    "vid_height, vid_width = cam.get_resolution()\n",
    "print(\"Resolución del video: {0}x{1}p\".format(vid_width, vid_height))\n",
    "print(\"Cuadros por segundo: {0}\".format(cam.get_fps()))\n",
    "\n",
    "out = widgets.Image(layout=widgets.Layout(width=str(vid_width), \n",
    "                                          height=str(vid_height)))\n",
    "display(out)\n",
    "\n",
    "for frame in cam:\n",
    "    # Implemente esta función en proyecto.py\n",
    "    frame_limpio = eliminar_ruido(frame)\n",
    "    \n",
    "    # Implemente esta función en proyecto.py\n",
    "    frame_comprimido = transmisor(frame_limpio)\n",
    "    \n",
    "    # Mida el peso en bits de frame_comprimido\n",
    "    \n",
    "    # Implemente esta función en proyecto.py\n",
    "    frame = receptor(frame_comprimido)\n",
    "    \n",
    "    display_frame(out, frame)\n",
    "        \n",
    "   "
   ]
  },
  {
   "cell_type": "code",
   "execution_count": null,
   "metadata": {},
   "outputs": [],
   "source": []
  }
 ],
 "metadata": {
  "hide_code_all_hidden": false,
  "kernelspec": {
   "display_name": "Python 2",
   "language": "python",
   "name": "python2"
  }
 },
 "nbformat": 4,
 "nbformat_minor": 2
}
