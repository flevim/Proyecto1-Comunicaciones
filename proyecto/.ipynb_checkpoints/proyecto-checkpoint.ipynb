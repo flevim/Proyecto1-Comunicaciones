{
 "cells": [
  {
   "cell_type": "code",
   "execution_count": 8,
   "metadata": {
    "hideCode": false,
    "hidePrompt": false,
    "scrolled": false
   },
   "outputs": [
    {
     "name": "stdout",
     "output_type": "stream",
     "text": [
      "The autoreload extension is already loaded. To reload it, use:\n",
      "  %reload_ext autoreload\n",
      "Iniciando lector de camara\n",
      "OpenCV version: major: 4, minor: 2, subminor: 0\n",
      "Resolución del video: 848x480p\n",
      "Cuadros por segundo: 29.97002997002997\n"
     ]
    },
    {
     "data": {
      "application/vnd.jupyter.widget-view+json": {
       "model_id": "b3ad54e730604b0884372bdc530b9053",
       "version_major": 2,
       "version_minor": 0
      },
      "text/plain": [
       "Image(value=b'', layout=\"Layout(height='480', width='848')\")"
      ]
     },
     "metadata": {},
     "output_type": "display_data"
    },
    {
     "data": {
      "text/plain": [
       "(480, 848)"
      ]
     },
     "metadata": {},
     "output_type": "display_data"
    },
    {
     "data": {
      "text/plain": [
       "array([[404., -52., -35., ...,   1.,   0.,  -1.],\n",
       "       [ 12., -27., -12., ...,  -0.,   1.,  -0.],\n",
       "       [ -6., -24., -13., ...,  -1.,   1.,  -1.],\n",
       "       ...,\n",
       "       [ -1.,  -1.,  -1., ...,   0.,  -0.,   0.],\n",
       "       [  0.,   0.,   1., ...,  -0.,   0.,  -0.],\n",
       "       [ -0.,  -0.,  -0., ...,   0.,  -0.,   0.]])"
      ]
     },
     "metadata": {},
     "output_type": "display_data"
    },
    {
     "ename": "TypeError",
     "evalue": "unhashable type: 'numpy.ndarray'",
     "output_type": "error",
     "traceback": [
      "\u001b[0;31m---------------------------------------------------------------------------\u001b[0m",
      "\u001b[0;31mTypeError\u001b[0m                                 Traceback (most recent call last)",
      "\u001b[0;32m<ipython-input-8-f694b1165ba6>\u001b[0m in \u001b[0;36m<module>\u001b[0;34m\u001b[0m\n\u001b[1;32m     31\u001b[0m \u001b[0;34m\u001b[0m\u001b[0m\n\u001b[1;32m     32\u001b[0m     \u001b[0;31m# Implemente esta función en proyecto.py\u001b[0m\u001b[0;34m\u001b[0m\u001b[0;34m\u001b[0m\u001b[0;34m\u001b[0m\u001b[0m\n\u001b[0;32m---> 33\u001b[0;31m \u001b[0mframe_comprimido\u001b[0m \u001b[0;34m=\u001b[0m \u001b[0mtransmisor\u001b[0m\u001b[0;34m(\u001b[0m\u001b[0mframe_limpio\u001b[0m\u001b[0;34m)\u001b[0m\u001b[0;34m\u001b[0m\u001b[0;34m\u001b[0m\u001b[0m\n\u001b[0m\u001b[1;32m     34\u001b[0m \u001b[0;34m\u001b[0m\u001b[0m\n\u001b[1;32m     35\u001b[0m     \u001b[0;31m# Mida el peso en bits de frame_comprimido\u001b[0m\u001b[0;34m\u001b[0m\u001b[0;34m\u001b[0m\u001b[0;34m\u001b[0m\u001b[0m\n",
      "\u001b[0;32m~/Escritorio/Proyecto comunicaciones/Proyecto1-Comunicaciones/Proyecto1-Comunicaciones/proyecto/funciones.py\u001b[0m in \u001b[0;36mtransmisor\u001b[0;34m(frame)\u001b[0m\n\u001b[1;32m    108\u001b[0m     \u001b[0mdisplay\u001b[0m\u001b[0;34m(\u001b[0m\u001b[0mframe_cuantizado\u001b[0m\u001b[0;34m)\u001b[0m\u001b[0;34m\u001b[0m\u001b[0;34m\u001b[0m\u001b[0m\n\u001b[1;32m    109\u001b[0m \u001b[0;34m\u001b[0m\u001b[0m\n\u001b[0;32m--> 110\u001b[0;31m     \u001b[0mframe_codificado\u001b[0m \u001b[0;34m=\u001b[0m \u001b[0mcodifica_frame\u001b[0m\u001b[0;34m(\u001b[0m\u001b[0mframe_cuantizado\u001b[0m\u001b[0;34m)\u001b[0m\u001b[0;34m\u001b[0m\u001b[0;34m\u001b[0m\u001b[0m\n\u001b[0m\u001b[1;32m    111\u001b[0m \u001b[0;34m\u001b[0m\u001b[0m\n\u001b[1;32m    112\u001b[0m     \u001b[0mframe_comprimido\u001b[0m \u001b[0;34m=\u001b[0m \u001b[0mframe\u001b[0m\u001b[0;34m\u001b[0m\u001b[0;34m\u001b[0m\u001b[0m\n",
      "\u001b[0;32m~/Escritorio/Proyecto comunicaciones/Proyecto1-Comunicaciones/Proyecto1-Comunicaciones/proyecto/funciones.py\u001b[0m in \u001b[0;36mcodifica_frame\u001b[0;34m(frame)\u001b[0m\n\u001b[1;32m     82\u001b[0m     \u001b[0mtexto_codificado\u001b[0m \u001b[0;34m=\u001b[0m \u001b[0;34m\"\"\u001b[0m\u001b[0;34m\u001b[0m\u001b[0;34m\u001b[0m\u001b[0m\n\u001b[1;32m     83\u001b[0m     \u001b[0;32mfor\u001b[0m \u001b[0mletra\u001b[0m \u001b[0;32min\u001b[0m \u001b[0mframe\u001b[0m\u001b[0;34m:\u001b[0m\u001b[0;34m\u001b[0m\u001b[0;34m\u001b[0m\u001b[0m\n\u001b[0;32m---> 84\u001b[0;31m         \u001b[0mtexto_codificado\u001b[0m \u001b[0;34m+=\u001b[0m \u001b[0mdendograma\u001b[0m\u001b[0;34m[\u001b[0m\u001b[0mletra\u001b[0m\u001b[0;34m]\u001b[0m\u001b[0;34m\u001b[0m\u001b[0;34m\u001b[0m\u001b[0m\n\u001b[0m\u001b[1;32m     85\u001b[0m     \u001b[0mdisplay\u001b[0m\u001b[0;34m(\u001b[0m\u001b[0mtexto_codificado\u001b[0m\u001b[0;34m[\u001b[0m\u001b[0;34m:\u001b[0m\u001b[0;36m1000\u001b[0m\u001b[0;34m]\u001b[0m\u001b[0;34m)\u001b[0m\u001b[0;34m\u001b[0m\u001b[0;34m\u001b[0m\u001b[0m\n\u001b[1;32m     86\u001b[0m \u001b[0;34m\u001b[0m\u001b[0m\n",
      "\u001b[0;31mTypeError\u001b[0m: unhashable type: 'numpy.ndarray'"
     ]
    }
   ],
   "source": [
    "%load_ext autoreload\n",
    "%autoreload 2\n",
    "\n",
    "import ipywidgets as widgets\n",
    "from camera import CameraReader, display_frame\n",
    "from funciones import eliminar_ruido, transmisor, receptor\n",
    "from scipy import fftpack\n",
    "import matplotlib.pyplot as plt\n",
    "from scipy.signal import medfilt\n",
    "import numpy as np\n",
    "from collections import Counter\n",
    "import heapq\n",
    "\n",
    "\n",
    "cam = CameraReader()\n",
    "vid_height, vid_width = cam.get_resolution()\n",
    "print(\"Resolución del video: {0}x{1}p\".format(vid_width, vid_height))\n",
    "print(\"Cuadros por segundo: {0}\".format(cam.get_fps()))\n",
    "\n",
    "out = widgets.Image(layout=widgets.Layout(width=str(vid_width), \n",
    "                                          height=str(vid_height)))\n",
    "display(out)\n",
    "\n",
    "# Probamos cada fase con el 1er frame del video\n",
    "frame1 = next(cam)\n",
    "\n",
    "#for frame in cam:\n",
    "    \n",
    "    # Implemente esta función en proyecto.py\n",
    "frame_limpio = eliminar_ruido(frame1)\n",
    "    \n",
    "    # Implemente esta función en proyecto.py\n",
    "frame_comprimido = transmisor(frame_limpio)\n",
    "    \n",
    "    # Mida el peso en bits de frame_comprimido\n",
    "    \n",
    "    # Implemente esta función en proyecto.py\n",
    "frame = receptor(frame_comprimido)\n",
    "    \n",
    "#display_frame(out, frame.astype('uint8'))\n",
    "\n",
    "\n",
    "   "
   ]
  },
  {
   "cell_type": "code",
   "execution_count": null,
   "metadata": {},
   "outputs": [],
   "source": []
  },
  {
   "cell_type": "code",
   "execution_count": null,
   "metadata": {},
   "outputs": [],
   "source": []
  },
  {
   "cell_type": "code",
   "execution_count": null,
   "metadata": {},
   "outputs": [],
   "source": []
  },
  {
   "cell_type": "code",
   "execution_count": null,
   "metadata": {},
   "outputs": [],
   "source": []
  },
  {
   "cell_type": "code",
   "execution_count": null,
   "metadata": {},
   "outputs": [],
   "source": []
  },
  {
   "cell_type": "code",
   "execution_count": null,
   "metadata": {},
   "outputs": [],
   "source": []
  }
 ],
 "metadata": {
  "hide_code_all_hidden": false,
  "kernelspec": {
   "display_name": "Python 3",
   "language": "python",
   "name": "python3"
  },
  "language_info": {
   "codemirror_mode": {
    "name": "ipython",
    "version": 3
   },
   "file_extension": ".py",
   "mimetype": "text/x-python",
   "name": "python",
   "nbconvert_exporter": "python",
   "pygments_lexer": "ipython3",
   "version": "3.7.6"
  }
 },
 "nbformat": 4,
 "nbformat_minor": 2
}
