{
 "cells": [
  {
   "cell_type": "code",
   "execution_count": 6,
   "metadata": {
    "hideCode": false,
    "hidePrompt": false,
    "scrolled": false
   },
   "outputs": [
    {
     "name": "stdout",
     "output_type": "stream",
     "text": [
      "The autoreload extension is already loaded. To reload it, use:\n",
      "  %reload_ext autoreload\n",
      "Iniciando lector de camara\n",
      "OpenCV version: major: 4, minor: 2, subminor: 0\n",
      "Resolución del video: 848x480p\n",
      "Cuadros por segundo: 29.97002997002997\n"
     ]
    },
    {
     "data": {
      "application/vnd.jupyter.widget-view+json": {
       "model_id": "5288242ee2574d57a29d55bedfec3e1e",
       "version_major": 2,
       "version_minor": 0
      },
      "text/plain": [
       "Image(value=b'', layout=\"Layout(height='480', width='848')\")"
      ]
     },
     "metadata": {},
     "output_type": "display_data"
    },
    {
     "data": {
      "text/plain": [
       "(480, 848)"
      ]
     },
     "metadata": {},
     "output_type": "display_data"
    },
    {
     "data": {
      "text/plain": [
       "array([[402., -55., -37., ...,   1.,   0.,  -1.],\n",
       "       [ 12., -27., -13., ...,  -0.,   1.,  -0.],\n",
       "       [ -4., -20., -11., ...,  -1.,   1.,  -1.],\n",
       "       ...,\n",
       "       [ -1.,  -1.,  -1., ...,   0.,  -0.,   0.],\n",
       "       [  0.,   0.,   1., ...,  -0.,   0.,  -0.],\n",
       "       [ -0.,  -0.,  -0., ...,   0.,  -0.,   0.]])"
      ]
     },
     "metadata": {},
     "output_type": "display_data"
    },
    {
     "name": "stdout",
     "output_type": "stream",
     "text": [
      "256\n"
     ]
    },
    {
     "data": {
      "text/plain": [
       "'0000000100000001101001000001011111000110000000011101010010000001000101001111111000110110110101011111101100110100010110101011111000001000101111111101100110100010110001011011111101100110110110111110110001111110110010000100011000010110111111000000010010000001101110111110001101001110000011111111000000101100100111111000010111111001111111011001101000001100011111110110010000101011000111111100000001001100111111100010110010110101111100010110010111111110110010111011000100101011110000000100000101111110110010010011100111111000110110110001111001111111111000110001010010011011111101100100100100011000000111111000010110100010001101010101111100011000010000111100011111100000001000101111111111100000010111100011100111111111100011000010100110101111011111000110001010011000000111111011001001001000100101111100011001011000001101010110111111011001001100000010100111111000101111011101110111111000000001111001100001011111010111100011001001111101110111110000000011101010100111111111100011011010111011001111111111100011'"
      ]
     },
     "metadata": {},
     "output_type": "display_data"
    }
   ],
   "source": [
    "%load_ext autoreload\n",
    "%autoreload 2\n",
    "\n",
    "import ipywidgets as widgets\n",
    "from camera import CameraReader, display_frame\n",
    "from funciones import eliminar_ruido, transmisor, receptor\n",
    "from scipy import fftpack\n",
    "import matplotlib.pyplot as plt\n",
    "from scipy.signal import medfilt\n",
    "import numpy as np\n",
    "from collections import Counter\n",
    "import heapq\n",
    "\n",
    "\n",
    "cam = CameraReader()\n",
    "vid_height, vid_width = cam.get_resolution()\n",
    "print(\"Resolución del video: {0}x{1}p\".format(vid_width, vid_height))\n",
    "print(\"Cuadros por segundo: {0}\".format(cam.get_fps()))\n",
    "\n",
    "out = widgets.Image(layout=widgets.Layout(width=str(vid_width), \n",
    "                                          height=str(vid_height)))\n",
    "display(out)\n",
    "\n",
    "# Probamos cada fase con el 1er frame del video\n",
    "frame1 = next(cam)\n",
    "frame2 = next(cam)\n",
    "\n",
    "#for frame in cam:\n",
    "    \n",
    "    # Implemente esta función en proyecto.py\n",
    "frame_limpio = eliminar_ruido(frame2)\n",
    "    \n",
    "    # Implemente esta función en proyecto.py\n",
    "frame_comprimido = transmisor(frame_limpio)\n",
    "    \n",
    "    # Mida el peso en bits de frame_comprimido\n",
    "    \n",
    "    # Implemente esta función en proyecto.py\n",
    "frame = receptor(frame_comprimido)\n",
    "    \n",
    "#display_frame(out, frame.astype('uint8'))\n",
    "\n",
    "\n",
    "   "
   ]
  },
  {
   "cell_type": "code",
   "execution_count": 5,
   "metadata": {},
   "outputs": [
    {
     "data": {
      "text/plain": [
       "88806.625"
      ]
     },
     "execution_count": 5,
     "metadata": {},
     "output_type": "execute_result"
    }
   ],
   "source": [
    "710453 / 8\n"
   ]
  },
  {
   "cell_type": "code",
   "execution_count": null,
   "metadata": {},
   "outputs": [],
   "source": []
  },
  {
   "cell_type": "code",
   "execution_count": null,
   "metadata": {},
   "outputs": [],
   "source": []
  },
  {
   "cell_type": "code",
   "execution_count": null,
   "metadata": {},
   "outputs": [],
   "source": []
  },
  {
   "cell_type": "code",
   "execution_count": null,
   "metadata": {},
   "outputs": [],
   "source": []
  },
  {
   "cell_type": "code",
   "execution_count": null,
   "metadata": {},
   "outputs": [],
   "source": []
  }
 ],
 "metadata": {
  "hide_code_all_hidden": false,
  "kernelspec": {
   "display_name": "Python 3",
   "language": "python",
   "name": "python3"
  },
  "language_info": {
   "codemirror_mode": {
    "name": "ipython",
    "version": 3
   },
   "file_extension": ".py",
   "mimetype": "text/x-python",
   "name": "python",
   "nbconvert_exporter": "python",
   "pygments_lexer": "ipython3",
   "version": "3.7.6"
  }
 },
 "nbformat": 4,
 "nbformat_minor": 2
}
