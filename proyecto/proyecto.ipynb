{
 "cells": [
  {
   "cell_type": "code",
   "execution_count": 11,
   "metadata": {
    "hideCode": false,
    "hidePrompt": false,
    "scrolled": false
   },
   "outputs": [
    {
     "name": "stdout",
     "output_type": "stream",
     "text": [
      "The autoreload extension is already loaded. To reload it, use:\n",
      "  %reload_ext autoreload\n",
      "Iniciando lector de camara\n",
      "OpenCV version: major: 4, minor: 2, subminor: 0\n",
      "Resolución del video: 848x480p\n",
      "Cuadros por segundo: 29.97002997002997\n"
     ]
    },
    {
     "data": {
      "application/vnd.jupyter.widget-view+json": {
       "model_id": "49c8c66263864db4801cddee23837166",
       "version_major": 2,
       "version_minor": 0
      },
      "text/plain": [
       "Image(value=b'', layout=\"Layout(height='480', width='848')\")"
      ]
     },
     "metadata": {},
     "output_type": "display_data"
    },
    {
     "name": "stdout",
     "output_type": "stream",
     "text": [
      "Antes de cuantizar:  [[1206.35341979 -110.39370541  -73.47486625 ...    4.0315275\n",
      "     4.92876593   -6.51157544]\n",
      " [  23.85550548  -53.64969422  -37.9984426  ...   -3.27144522\n",
      "     6.35058978   -4.77715599]\n",
      " [ -13.05792534  -40.2533504   -33.1878434  ...   -7.28519183\n",
      "    10.53304727   -6.81680869]\n",
      " ...\n",
      " [  -3.86243524   -7.75788526  -12.39359081 ...    7.61233286\n",
      "    -6.39277018    3.89741255]\n",
      " [   3.42878154    5.94993648    7.74903389 ...   -7.68383611\n",
      "     5.7811374    -3.60915298]\n",
      " [  -5.39756038   -6.23246594   -7.61294998 ...    4.74585385\n",
      "    -3.00147232    1.40192606]]\n",
      "Después de cuantizar:  [[402. -55. -37. ...   1.   0.  -1.]\n",
      " [ 12. -27. -13. ...  -0.   1.  -0.]\n",
      " [ -4. -20. -11. ...  -1.   1.  -1.]\n",
      " ...\n",
      " [ -1.  -1.  -1. ...   0.  -0.   0.]\n",
      " [  0.   0.   1. ...  -0.   0.  -0.]\n",
      " [ -0.  -0.  -0. ...   0.  -0.   0.]]\n"
     ]
    },
    {
     "data": {
      "text/plain": [
       "'\\n        fig, ax = plt.subplots(1, 1, figsize=(15, 10), tight_layout=True);\\n        # Espectro\\n        freq_x = fftpack.fftshift(fftpack.fftfreq(n=frame.shape[1]))\\n        freq_y = fftpack.fftshift(fftpack.fftfreq(n=frame.shape[0]))\\n        ax.imshow(np.log(1+np.abs(fftpack.fftshift(fftpack.fft2(frame_sucio))))[200:-200, 200:-200], cmap=plt.cm.Spectral_r,\\n                 extent=(freq_x[800], freq_x[-800], freq_y[50], freq_y[-50]))        # Reconstrucción\\n        fig, ax2 = plt.subplots(1, 1, figsize=(15, 10), tight_layout=True);\\n        ax2.imshow(np.log(1+np.abs(fftpack.fftshift(fftpack.fft2(frame))))[200:-200, 200:-200], cmap=plt.cm.Spectral_r,\\n                   extent=(freq_x[800], freq_x[-800], freq_y[50], freq_y[-50])) \\n        fig, ax3 = plt.subplots(1, 1, figsize=(15, 10), tight_layout=True);\\n        ax3.matshow(frame[:,:], cmap=plt.cm.Greys_r)\\n        break\\n    \\n'"
      ]
     },
     "execution_count": 11,
     "metadata": {},
     "output_type": "execute_result"
    }
   ],
   "source": [
    "%load_ext autoreload\n",
    "%autoreload 2\n",
    "\n",
    "import ipywidgets as widgets\n",
    "from camera import CameraReader, display_frame\n",
    "from funciones import eliminar_ruido, transmisor, receptor\n",
    "from scipy import fftpack\n",
    "import matplotlib.pyplot as plt\n",
    "from scipy.signal import medfilt\n",
    "import numpy as np\n",
    "from collections import Counter\n",
    "import heapq\n",
    "\n",
    "\n",
    "cam = CameraReader()\n",
    "vid_height, vid_width = cam.get_resolution()\n",
    "print(\"Resolución del video: {0}x{1}p\".format(vid_width, vid_height))\n",
    "print(\"Cuadros por segundo: {0}\".format(cam.get_fps()))\n",
    "\n",
    "out = widgets.Image(layout=widgets.Layout(width=str(vid_width), \n",
    "                                          height=str(vid_height)))\n",
    "display(out)\n",
    "\n",
    "# Probamos cada fase con el 1er frame del video\n",
    "frame1 = next(cam)\n",
    "\n",
    "#for frame in cam:\n",
    "    \n",
    "    # Implemente esta función en proyecto.py\n",
    "frame_limpio = eliminar_ruido(frame1)\n",
    "    \n",
    "    # Implemente esta función en proyecto.py\n",
    "frame_comprimido = transmisor(frame_limpio)\n",
    "    \n",
    "    # Mida el peso en bits de frame_comprimido\n",
    "    \n",
    "    # Implemente esta función en proyecto.py\n",
    "frame = receptor(frame_comprimido)\n",
    "    \n",
    "#display_frame(out, frame.astype('uint8'))\n",
    "    \n",
    "\"\"\"\n",
    "        fig, ax = plt.subplots(1, 1, figsize=(15, 10), tight_layout=True);\n",
    "        # Espectro\n",
    "        freq_x = fftpack.fftshift(fftpack.fftfreq(n=frame.shape[1]))\n",
    "        freq_y = fftpack.fftshift(fftpack.fftfreq(n=frame.shape[0]))\n",
    "        ax.imshow(np.log(1+np.abs(fftpack.fftshift(fftpack.fft2(frame_sucio))))[200:-200, 200:-200], cmap=plt.cm.Spectral_r,\n",
    "                 extent=(freq_x[800], freq_x[-800], freq_y[50], freq_y[-50]))        # Reconstrucción\n",
    "        fig, ax2 = plt.subplots(1, 1, figsize=(15, 10), tight_layout=True);\n",
    "        ax2.imshow(np.log(1+np.abs(fftpack.fftshift(fftpack.fft2(frame))))[200:-200, 200:-200], cmap=plt.cm.Spectral_r,\n",
    "                   extent=(freq_x[800], freq_x[-800], freq_y[50], freq_y[-50])) \n",
    "        fig, ax3 = plt.subplots(1, 1, figsize=(15, 10), tight_layout=True);\n",
    "        ax3.matshow(frame[:,:], cmap=plt.cm.Greys_r)\n",
    "        break\n",
    "    \n",
    "\"\"\" \n",
    "      \n",
    "   "
   ]
  },
  {
   "cell_type": "code",
   "execution_count": null,
   "metadata": {},
   "outputs": [],
   "source": []
  },
  {
   "cell_type": "code",
   "execution_count": null,
   "metadata": {},
   "outputs": [],
   "source": []
  },
  {
   "cell_type": "code",
   "execution_count": null,
   "metadata": {},
   "outputs": [],
   "source": []
  },
  {
   "cell_type": "code",
   "execution_count": null,
   "metadata": {},
   "outputs": [],
   "source": []
  },
  {
   "cell_type": "code",
   "execution_count": null,
   "metadata": {},
   "outputs": [],
   "source": []
  },
  {
   "cell_type": "code",
   "execution_count": null,
   "metadata": {},
   "outputs": [],
   "source": []
  }
 ],
 "metadata": {
  "hide_code_all_hidden": false,
  "kernelspec": {
   "display_name": "Python 3",
   "language": "python",
   "name": "python3"
  },
  "language_info": {
   "codemirror_mode": {
    "name": "ipython",
    "version": 3
   },
   "file_extension": ".py",
   "mimetype": "text/x-python",
   "name": "python",
   "nbconvert_exporter": "python",
   "pygments_lexer": "ipython3",
   "version": "3.7.6"
  }
 },
 "nbformat": 4,
 "nbformat_minor": 2
}
