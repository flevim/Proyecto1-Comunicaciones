{
 "cells": [
  {
   "cell_type": "code",
   "execution_count": 10,
   "metadata": {
    "hideCode": false,
    "hidePrompt": false,
    "scrolled": false
   },
   "outputs": [
    {
     "name": "stdout",
     "output_type": "stream",
     "text": [
      "The autoreload extension is already loaded. To reload it, use:\n",
      "  %reload_ext autoreload\n",
      "Iniciando lector de camara\n",
      "OpenCV version: major: 4, minor: 2, subminor: 0\n",
      "Resolución del video: 848x480p\n",
      "Cuadros por segundo: 29.97002997002997\n"
     ]
    },
    {
     "data": {
      "application/vnd.jupyter.widget-view+json": {
       "model_id": "deb6488bc0c54cfb827a9f71dfb48a66",
       "version_major": 2,
       "version_minor": 0
      },
      "text/plain": [
       "Image(value=b'', layout=\"Layout(height='480', width='848')\")"
      ]
     },
     "metadata": {},
     "output_type": "display_data"
    },
    {
     "name": "stdout",
     "output_type": "stream",
     "text": [
      "Antes:  [[1206.20297461 -110.36376117  -73.45476419 ...    4.02862237\n",
      "     4.92918256   -6.51112122]\n",
      " [  23.80838482  -53.61198853  -37.97340659 ...   -3.27411753\n",
      "     6.35027103   -4.77613164]\n",
      " [ -12.98065035  -40.23211545  -33.1703142  ...   -7.2846597\n",
      "    10.53048266   -6.81479298]\n",
      " ...\n",
      " [  -3.86554255   -7.76414996  -12.39840518 ...    7.61318124\n",
      "    -6.39292196    3.89733396]\n",
      " [   3.42932299    5.95484167    7.75300461 ...   -7.68475891\n",
      "     5.78148154   -3.6092179 ]\n",
      " [  -5.39911611   -6.23511594   -7.61507431 ...    4.74644772\n",
      "    -3.00174446    1.40201819]]\n",
      "Después:  [[ 4.02067658e+02 -5.51818806e+01 -3.67273821e+01 ...  5.03577796e-01\n",
      "   4.92918256e-01 -5.42593435e-01]\n",
      " [ 1.19041924e+01 -2.68059943e+01 -1.26578022e+01 ... -2.97647049e-01\n",
      "   5.77297366e-01 -3.67394742e-01]\n",
      " [-4.32688345e+00 -2.01160577e+01 -1.10567714e+01 ... -6.62241791e-01\n",
      "   8.10037128e-01 -6.19526635e-01]\n",
      " ...\n",
      " [-7.73108510e-01 -1.10916428e+00 -1.23984052e+00 ...  3.80659062e-01\n",
      "  -3.04424855e-01  2.29254939e-01]\n",
      " [ 3.81035888e-01  4.96236806e-01  5.16866974e-01 ... -3.34119953e-01\n",
      "   2.51368763e-01 -1.89958837e-01]\n",
      " [-3.85651151e-01 -3.66771526e-01 -4.23059684e-01 ...  2.49813038e-01\n",
      "  -1.50087223e-01  7.37904310e-02]]\n"
     ]
    },
    {
     "data": {
      "text/plain": [
       "'\\n        fig, ax = plt.subplots(1, 1, figsize=(15, 10), tight_layout=True);\\n        # Espectro\\n        freq_x = fftpack.fftshift(fftpack.fftfreq(n=frame.shape[1]))\\n        freq_y = fftpack.fftshift(fftpack.fftfreq(n=frame.shape[0]))\\n        ax.imshow(np.log(1+np.abs(fftpack.fftshift(fftpack.fft2(frame_sucio))))[200:-200, 200:-200], cmap=plt.cm.Spectral_r,\\n                 extent=(freq_x[800], freq_x[-800], freq_y[50], freq_y[-50]))        # Reconstrucción\\n        fig, ax2 = plt.subplots(1, 1, figsize=(15, 10), tight_layout=True);\\n        ax2.imshow(np.log(1+np.abs(fftpack.fftshift(fftpack.fft2(frame))))[200:-200, 200:-200], cmap=plt.cm.Spectral_r,\\n                   extent=(freq_x[800], freq_x[-800], freq_y[50], freq_y[-50])) \\n        fig, ax3 = plt.subplots(1, 1, figsize=(15, 10), tight_layout=True);\\n        ax3.matshow(frame[:,:], cmap=plt.cm.Greys_r)\\n        break\\n    \\n'"
      ]
     },
     "execution_count": 10,
     "metadata": {},
     "output_type": "execute_result"
    }
   ],
   "source": [
    "%load_ext autoreload\n",
    "%autoreload 2\n",
    "\n",
    "import ipywidgets as widgets\n",
    "from camera import CameraReader, display_frame\n",
    "from funciones import eliminar_ruido, transmisor, receptor\n",
    "from scipy import fftpack\n",
    "import matplotlib.pyplot as plt\n",
    "from scipy.signal import medfilt\n",
    "import numpy as np\n",
    "from collections import Counter\n",
    "import heapq\n",
    "\n",
    "\n",
    "cam = CameraReader()\n",
    "vid_height, vid_width = cam.get_resolution()\n",
    "print(\"Resolución del video: {0}x{1}p\".format(vid_width, vid_height))\n",
    "print(\"Cuadros por segundo: {0}\".format(cam.get_fps()))\n",
    "\n",
    "out = widgets.Image(layout=widgets.Layout(width=str(vid_width), \n",
    "                                          height=str(vid_height)))\n",
    "display(out)\n",
    "\n",
    "# Probamos cada fase con el 1er frame del video\n",
    "frame1 = next(cam)\n",
    "\n",
    "#for frame in cam:\n",
    "    \n",
    "    # Implemente esta función en proyecto.py\n",
    "frame_limpio = eliminar_ruido(frame1)\n",
    "    \n",
    "    # Implemente esta función en proyecto.py\n",
    "frame_comprimido = transmisor(frame_limpio)\n",
    "    \n",
    "    # Mida el peso en bits de frame_comprimido\n",
    "    \n",
    "    # Implemente esta función en proyecto.py\n",
    "frame = receptor(frame_comprimido)\n",
    "    \n",
    "#display_frame(out, frame.astype('uint8'))\n",
    "    \n",
    "\"\"\"\n",
    "        fig, ax = plt.subplots(1, 1, figsize=(15, 10), tight_layout=True);\n",
    "        # Espectro\n",
    "        freq_x = fftpack.fftshift(fftpack.fftfreq(n=frame.shape[1]))\n",
    "        freq_y = fftpack.fftshift(fftpack.fftfreq(n=frame.shape[0]))\n",
    "        ax.imshow(np.log(1+np.abs(fftpack.fftshift(fftpack.fft2(frame_sucio))))[200:-200, 200:-200], cmap=plt.cm.Spectral_r,\n",
    "                 extent=(freq_x[800], freq_x[-800], freq_y[50], freq_y[-50]))        # Reconstrucción\n",
    "        fig, ax2 = plt.subplots(1, 1, figsize=(15, 10), tight_layout=True);\n",
    "        ax2.imshow(np.log(1+np.abs(fftpack.fftshift(fftpack.fft2(frame))))[200:-200, 200:-200], cmap=plt.cm.Spectral_r,\n",
    "                   extent=(freq_x[800], freq_x[-800], freq_y[50], freq_y[-50])) \n",
    "        fig, ax3 = plt.subplots(1, 1, figsize=(15, 10), tight_layout=True);\n",
    "        ax3.matshow(frame[:,:], cmap=plt.cm.Greys_r)\n",
    "        break\n",
    "    \n",
    "\"\"\" \n",
    "      \n",
    "   "
   ]
  },
  {
   "cell_type": "code",
   "execution_count": null,
   "metadata": {},
   "outputs": [],
   "source": []
  },
  {
   "cell_type": "code",
   "execution_count": null,
   "metadata": {},
   "outputs": [],
   "source": []
  },
  {
   "cell_type": "code",
   "execution_count": null,
   "metadata": {},
   "outputs": [],
   "source": []
  },
  {
   "cell_type": "code",
   "execution_count": null,
   "metadata": {},
   "outputs": [],
   "source": []
  },
  {
   "cell_type": "code",
   "execution_count": null,
   "metadata": {},
   "outputs": [],
   "source": []
  },
  {
   "cell_type": "code",
   "execution_count": null,
   "metadata": {},
   "outputs": [],
   "source": []
  }
 ],
 "metadata": {
  "hide_code_all_hidden": false,
  "kernelspec": {
   "display_name": "Python 3",
   "language": "python",
   "name": "python3"
  },
  "language_info": {
   "codemirror_mode": {
    "name": "ipython",
    "version": 3
   },
   "file_extension": ".py",
   "mimetype": "text/x-python",
   "name": "python",
   "nbconvert_exporter": "python",
   "pygments_lexer": "ipython3",
   "version": "3.7.6"
  }
 },
 "nbformat": 4,
 "nbformat_minor": 2
}
