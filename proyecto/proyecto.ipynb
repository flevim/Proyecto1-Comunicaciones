{
 "cells": [
  {
   "cell_type": "code",
   "execution_count": null,
   "metadata": {
    "hideCode": false,
    "hidePrompt": false,
    "scrolled": false
   },
   "outputs": [
    {
     "name": "stdout",
     "output_type": "stream",
     "text": [
      "The autoreload extension is already loaded. To reload it, use:\n",
      "  %reload_ext autoreload\n",
      "Iniciando lector de camara\n",
      "OpenCV version: major: 4, minor: 2, subminor: 0\n",
      "Resolución del video: 848x480p\n",
      "Cuadros por segundo: 29.97002997002997\n"
     ]
    },
    {
     "data": {
      "application/vnd.jupyter.widget-view+json": {
       "model_id": "20b49a56e0dc4594be2a9e0342ad03da",
       "version_major": 2,
       "version_minor": 0
      },
      "text/plain": [
       "Image(value=b'', layout=\"Layout(height='480', width='848')\")"
      ]
     },
     "metadata": {},
     "output_type": "display_data"
    }
   ],
   "source": [
    "%load_ext autoreload\n",
    "%autoreload 2\n",
    "\n",
    "import ipywidgets as widgets\n",
    "from camera import CameraReader, display_frame\n",
    "from funciones import eliminar_ruido, transmisor, receptor\n",
    "from scipy import fftpack\n",
    "import matplotlib.pyplot as plt\n",
    "from scipy.signal import medfilt\n",
    "import numpy as np\n",
    "from collections import Counter\n",
    "import heapq\n",
    "\n",
    "\n",
    "cam = CameraReader()\n",
    "vid_height, vid_width = cam.get_resolution()\n",
    "print(\"Resolución del video: {0}x{1}p\".format(vid_width, vid_height))\n",
    "print(\"Cuadros por segundo: {0}\".format(cam.get_fps()))\n",
    "\n",
    "out = widgets.Image(layout=widgets.Layout(width=str(vid_width), \n",
    "                                          height=str(vid_height)))\n",
    "display(out)\n",
    "\n",
    "for frame in cam:\n",
    "    \n",
    "    # Implemente esta función en proyecto.py\n",
    "    frame_limpio = eliminar_ruido(frame)\n",
    "    \n",
    "    # Implemente esta función en proyecto.py\n",
    "    frame_comprimido = transmisor(frame_limpio)\n",
    "    \n",
    "    # Mida el peso en bits de frame_comprimido\n",
    "    \n",
    "    # Implemente esta función en proyecto.py\n",
    "    frame = receptor(frame_comprimido)\n",
    "    \n",
    "    display_frame(out, frame.astype('uint8'))\n",
    "    \n",
    "    \"\"\"\n",
    "        fig, ax = plt.subplots(1, 1, figsize=(15, 10), tight_layout=True);\n",
    "        # Espectro\n",
    "        freq_x = fftpack.fftshift(fftpack.fftfreq(n=frame.shape[1]))\n",
    "        freq_y = fftpack.fftshift(fftpack.fftfreq(n=frame.shape[0]))\n",
    "        ax.imshow(np.log(1+np.abs(fftpack.fftshift(fftpack.fft2(frame_sucio))))[200:-200, 200:-200], cmap=plt.cm.Spectral_r,\n",
    "                 extent=(freq_x[800], freq_x[-800], freq_y[50], freq_y[-50]))        # Reconstrucción\n",
    "        fig, ax2 = plt.subplots(1, 1, figsize=(15, 10), tight_layout=True);\n",
    "        ax2.imshow(np.log(1+np.abs(fftpack.fftshift(fftpack.fft2(frame))))[200:-200, 200:-200], cmap=plt.cm.Spectral_r,\n",
    "                   extent=(freq_x[800], freq_x[-800], freq_y[50], freq_y[-50])) \n",
    "        fig, ax3 = plt.subplots(1, 1, figsize=(15, 10), tight_layout=True);\n",
    "        ax3.matshow(frame[:,:], cmap=plt.cm.Greys_r)\n",
    "        break\n",
    "    \n",
    "    \"\"\" \n",
    "      \n",
    "   "
   ]
  },
  {
   "cell_type": "code",
   "execution_count": null,
   "metadata": {},
   "outputs": [],
   "source": []
  },
  {
   "cell_type": "code",
   "execution_count": null,
   "metadata": {},
   "outputs": [],
   "source": []
  },
  {
   "cell_type": "code",
   "execution_count": null,
   "metadata": {},
   "outputs": [],
   "source": []
  },
  {
   "cell_type": "code",
   "execution_count": null,
   "metadata": {},
   "outputs": [],
   "source": []
  },
  {
   "cell_type": "code",
   "execution_count": null,
   "metadata": {},
   "outputs": [],
   "source": []
  },
  {
   "cell_type": "code",
   "execution_count": null,
   "metadata": {},
   "outputs": [],
   "source": []
  }
 ],
 "metadata": {
  "hide_code_all_hidden": false,
  "kernelspec": {
   "display_name": "Python 3",
   "language": "python",
   "name": "python3"
  },
  "language_info": {
   "codemirror_mode": {
    "name": "ipython",
    "version": 3
   },
   "file_extension": ".py",
   "mimetype": "text/x-python",
   "name": "python",
   "nbconvert_exporter": "python",
   "pygments_lexer": "ipython3",
   "version": "3.7.6"
  }
 },
 "nbformat": 4,
 "nbformat_minor": 2
}
