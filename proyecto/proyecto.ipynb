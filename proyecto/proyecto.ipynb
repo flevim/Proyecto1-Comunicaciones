{
 "cells": [
  {
   "cell_type": "code",
   "execution_count": 40,
   "metadata": {
    "hideCode": false,
    "hidePrompt": false,
    "scrolled": false
   },
   "outputs": [
    {
     "name": "stdout",
     "output_type": "stream",
     "text": [
      "The autoreload extension is already loaded. To reload it, use:\n",
      "  %reload_ext autoreload\n",
      "Iniciando lector de camara\n",
      "OpenCV version: major: 4, minor: 2, subminor: 0\n",
      "Resolución del video: 848x480p\n",
      "Cuadros por segundo: 29.97002997002997\n"
     ]
    },
    {
     "data": {
      "application/vnd.jupyter.widget-view+json": {
       "model_id": "33b5005c36aa44f5bb8047ae0e9e026b",
       "version_major": 2,
       "version_minor": 0
      },
      "text/plain": [
       "Image(value=b'', layout=\"Layout(height='480', width='848')\")"
      ]
     },
     "metadata": {},
     "output_type": "display_data"
    },
    {
     "name": "stdout",
     "output_type": "stream",
     "text": [
      "Antes:  [[ 60.83987802  60.68522298 174.06550111 ... 154.41162724  61.10936158\n",
      "   60.98127883]\n",
      " [ 68.58908456 157.40480873 166.73316086 ... 146.14320094 138.47903329\n",
      "   68.91328934]\n",
      " [139.3703302  154.82276304 164.31765653 ... 142.85983539 135.3828792\n",
      "  121.95702308]\n",
      " ...\n",
      " [116.19181923 117.78285733 120.38018396 ... 114.47165963 107.09027896\n",
      "   91.80484597]\n",
      " [ 36.53966501 103.17009026 105.93744845 ...  99.18754778  91.98309513\n",
      "   36.32752323]\n",
      " [ 49.62385679  49.65377343  89.5572408  ...  84.86879319  49.52433481\n",
      "   49.58072025]]\n",
      "Despues:  [[ 9.03259394 23.2772266  49.34219281 ... 44.52915437 23.24143993\n",
      "  11.67802302]\n",
      " [22.13598284 38.96460752 53.2606479  ... 46.96636597 35.20465656\n",
      "  21.87881546]\n",
      " [37.93312172 47.02703787 55.21465112 ... 48.0745334  42.21009288\n",
      "  33.00182237]\n",
      " ...\n",
      " [30.8452459  35.93902121 38.98682055 ... 37.66618746 31.26106749\n",
      "  24.12537134]\n",
      " [15.74952339 24.99780256 32.23955022 ... 31.11145144 22.84244808\n",
      "  13.85605775]\n",
      " [ 7.32869443 14.8760942  24.58278061 ... 24.17986151 15.89869866\n",
      "   8.01577118]]\n"
     ]
    }
   ],
   "source": [
    "%load_ext autoreload\n",
    "%autoreload 2\n",
    "\n",
    "import ipywidgets as widgets\n",
    "from camera import CameraReader, display_frame\n",
    "from funciones import eliminar_ruido, transmisor, receptor\n",
    "from scipy import fftpack\n",
    "import matplotlib.pyplot as plt\n",
    "from scipy.signal import medfilt\n",
    "import numpy as np\n",
    "from collections import Counter\n",
    "import heapq\n",
    "\n",
    "\n",
    "cam = CameraReader()\n",
    "vid_height, vid_width = cam.get_resolution()\n",
    "print(\"Resolución del video: {0}x{1}p\".format(vid_width, vid_height))\n",
    "print(\"Cuadros por segundo: {0}\".format(cam.get_fps()))\n",
    "\n",
    "out = widgets.Image(layout=widgets.Layout(width=str(vid_width), \n",
    "                                          height=str(vid_height)))\n",
    "display(out)\n",
    "\n",
    "# Probamos cada fase con el 1er frame del video\n",
    "frame1 = next(cam)\n",
    "frame2 = next(cam)\n",
    "\n",
    "#for frame in cam:\n",
    "    \n",
    "    # Implemente esta función en proyecto.py\n",
    "frame_limpio = eliminar_ruido(frame1)\n",
    "    \n",
    "    # Implemente esta función en proyecto.py\n",
    "frame_comprimido = transmisor(frame_limpio)\n",
    "    \n",
    "    # Mida el peso en bits de frame_comprimido\n",
    "    \n",
    "    # Implemente esta función en proyecto.py\n",
    "frame = receptor(frame_comprimido)\n",
    "    \n",
    "display_frame(out, frame.astype('uint8'))\n",
    "\n",
    "\n",
    "   "
   ]
  },
  {
   "cell_type": "code",
   "execution_count": 3,
   "metadata": {},
   "outputs": [
    {
     "data": {
      "text/plain": [
       "88806.625"
      ]
     },
     "execution_count": 3,
     "metadata": {},
     "output_type": "execute_result"
    }
   ],
   "source": [
    "710453 / 8\n"
   ]
  },
  {
   "cell_type": "code",
   "execution_count": null,
   "metadata": {},
   "outputs": [],
   "source": []
  },
  {
   "cell_type": "code",
   "execution_count": null,
   "metadata": {},
   "outputs": [],
   "source": []
  },
  {
   "cell_type": "code",
   "execution_count": null,
   "metadata": {},
   "outputs": [],
   "source": []
  },
  {
   "cell_type": "code",
   "execution_count": null,
   "metadata": {},
   "outputs": [],
   "source": []
  },
  {
   "cell_type": "code",
   "execution_count": null,
   "metadata": {},
   "outputs": [],
   "source": []
  }
 ],
 "metadata": {
  "hide_code_all_hidden": false,
  "kernelspec": {
   "display_name": "Python 3",
   "language": "python",
   "name": "python3"
  },
  "language_info": {
   "codemirror_mode": {
    "name": "ipython",
    "version": 3
   },
   "file_extension": ".py",
   "mimetype": "text/x-python",
   "name": "python",
   "nbconvert_exporter": "python",
   "pygments_lexer": "ipython3",
   "version": "3.7.6"
  }
 },
 "nbformat": 4,
 "nbformat_minor": 2
}
